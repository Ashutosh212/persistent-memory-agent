{
 "cells": [
  {
   "cell_type": "markdown",
   "metadata": {},
   "source": [
    "Let's build a short term memory first to analyze the problem and will improve it later"
   ]
  },
  {
   "cell_type": "code",
   "execution_count": 143,
   "metadata": {},
   "outputs": [
    {
     "data": {
      "text/plain": [
       "True"
      ]
     },
     "execution_count": 143,
     "metadata": {},
     "output_type": "execute_result"
    }
   ],
   "source": [
    "from dotenv import load_dotenv\n",
    "load_dotenv()"
   ]
  },
  {
   "cell_type": "code",
   "execution_count": 144,
   "metadata": {},
   "outputs": [],
   "source": [
    "from langgraph.store.memory import InMemoryStore"
   ]
  },
  {
   "cell_type": "code",
   "execution_count": 145,
   "metadata": {},
   "outputs": [],
   "source": [
    "in_memory_store = InMemoryStore()"
   ]
  },
  {
   "cell_type": "markdown",
   "metadata": {},
   "source": [
    "When storing the object(memories) in the Store, we provide:\n",
    "- The namespace for the object, a tuple(similar to directories)\n",
    "- The object key(think this a file)\n",
    "- The object Value(think this as a content)"
   ]
  },
  {
   "cell_type": "markdown",
   "metadata": {},
   "source": [
    "We use `put` method to save an object to the store by `namespace` and `key`"
   ]
  },
  {
   "cell_type": "code",
   "execution_count": 168,
   "metadata": {},
   "outputs": [],
   "source": [
    "import uuid\n",
    "\n",
    "user_id = \"1\"\n",
    "namespace_for_memory = (user_id, \"memories\")\n",
    "\n",
    "key = str(uuid.uuid4())\n",
    "\n",
    "value = {\"food_preferences\" : \"I like pizza\"}\n",
    "\n",
    "in_memory_store.put(namespace_for_memory, key, value)"
   ]
  },
  {
   "cell_type": "code",
   "execution_count": 169,
   "metadata": {},
   "outputs": [
    {
     "name": "stdout",
     "output_type": "stream",
     "text": [
      "('1', 'memories')\n",
      "{'food_preferences': 'I like pizza'}\n",
      "bec6f8d5-9b6e-4496-aaa2-17190a836e59\n"
     ]
    }
   ],
   "source": [
    "# Search\n",
    "memories = in_memory_store.search(namespace_for_memory)\n",
    "\n",
    "print(memories[0].namespace)\n",
    "print(memories[0].value)\n",
    "print(memories[0].key)"
   ]
  },
  {
   "cell_type": "code",
   "execution_count": 170,
   "metadata": {},
   "outputs": [
    {
     "name": "stdout",
     "output_type": "stream",
     "text": [
      "{'namespace': ['1', 'memories'], 'key': 'c0e333bb-3e80-48e7-89e1-6b8d08f9ce00', 'value': {'food_preferences': 'I like pizza'}, 'created_at': '2025-07-30T17:28:14.920043+00:00', 'updated_at': '2025-07-30T17:28:14.920044+00:00'}\n",
      "-----\n",
      "I like pizza\n"
     ]
    }
   ],
   "source": [
    "# Now we can use namespace and key to get memory using get\n",
    "memory = in_memory_store.get(namespace_for_memory, key)\n",
    "print(memory.dict())\n",
    "print(\"-----\")\n",
    "print(memory.value.get(\"food_preferences\"))"
   ]
  },
  {
   "cell_type": "markdown",
   "metadata": {},
   "source": [
    "llm"
   ]
  },
  {
   "cell_type": "code",
   "execution_count": 171,
   "metadata": {},
   "outputs": [],
   "source": [
    "# from langchain_google_genai import ChatGoogleGenerativeAI\n",
    "# model = ChatGoogleGenerativeAI(\n",
    "#     # model=\"gemini-2.0-flash\",\n",
    "#     model = \"gemini-2.5-flash-lite\",\n",
    "#     temperature=0,\n",
    "#     max_tokens=None,\n",
    "#     timeout=None,\n",
    "#     max_retries=2,\n",
    "# )\n",
    "\n",
    "from langchain_openai import ChatOpenAI\n",
    "model = ChatOpenAI(model=\"gpt-4o-mini\", temperature=0)\n"
   ]
  },
  {
   "cell_type": "markdown",
   "metadata": {},
   "source": [
    "For short-term pointer, we will use `checkpointer`"
   ]
  },
  {
   "cell_type": "code",
   "execution_count": 172,
   "metadata": {},
   "outputs": [],
   "source": [
    "from langgraph.checkpoint.memory import MemorySaver"
   ]
  },
  {
   "cell_type": "markdown",
   "metadata": {},
   "source": [
    "For short-term pointer, we will use `Langchain store`"
   ]
  },
  {
   "cell_type": "code",
   "execution_count": 173,
   "metadata": {},
   "outputs": [],
   "source": [
    "from langgraph.store.base import BaseStore"
   ]
  },
  {
   "cell_type": "code",
   "execution_count": 174,
   "metadata": {},
   "outputs": [],
   "source": [
    "from langgraph.graph import StateGraph, MessagesState, START, END\n",
    "from langchain_core.messages import HumanMessage, SystemMessage\n",
    "from langchain_core.runnables.config import RunnableConfig"
   ]
  },
  {
   "cell_type": "code",
   "execution_count": 175,
   "metadata": {},
   "outputs": [],
   "source": [
    "MODEL_SYSTEM_MESSAGE = \"\"\"You are a helpful assistant with memory that provides information about the \n",
    "user. \n",
    "If you have memory for this user, use it to personalize your responses.\n",
    "Here is the memory (it may be empty): {memory}\"\"\""
   ]
  },
  {
   "cell_type": "code",
   "execution_count": null,
   "metadata": {},
   "outputs": [],
   "source": [
    "CREATE_MEMORY_INSTRUCTION = \"\"\"You are collecting information about the user to personalize your responses.\n",
    "\n",
    "USER INFORMATION FROM PREVIOUS INTERACTIONS:\n",
    "{memory}\n",
    "\n",
    "INSTRUCTIONS:\n",
    "1. Carefully review the chat history below.\n",
    "2. Identify new factual information about the user that is not already included above, such as:\n",
    "   - Personal details (e.g., name, location)\n",
    "   - Food preferences (e.g., likes, dislikes)\n",
    "   - Interests and hobbies\n",
    "   - Past experiences\n",
    "   - Goals or future plans\n",
    "3. Combine any new information with the existing memory to create a single, updated memory.\n",
    "4. Format the updated memory as a clear, concise, bulleted list.\n",
    "5. If any new information contradicts the existing memory, prefer the most recent version stated by the user.\n",
    "\n",
    "Important: Only include information explicitly stated by the user. Do not make assumptions or inferences.\n",
    "\n",
    "Based on the chat history below, please update the user information:\n",
    "\"\"\"\n"
   ]
  },
  {
   "cell_type": "code",
   "execution_count": 177,
   "metadata": {},
   "outputs": [],
   "source": [
    "def call_model(state: MessagesState, config: RunnableConfig, store: BaseStore):\n",
    "    \"\"\"Load the memory from the store and use to personlaize the response\"\"\"\n",
    "\n",
    "    user_id = config[\"configurable\"][\"user_id\"]\n",
    "\n",
    "    namespace = (user_id, \"memory\")\n",
    "\n",
    "    key = \"user_memory\"\n",
    "\n",
    "    existing_memory = store.get(namespace, key)\n",
    "\n",
    "    if existing_memory:\n",
    "        # Value is a dictionary with a memory key\n",
    "        existing_memory_content = existing_memory.value.get('memory')\n",
    "    else:\n",
    "        existing_memory_content = \"No existing memory found.\"\n",
    "\n",
    "    # print(existing_memory_content)\n",
    "\n",
    "    system_msg = MODEL_SYSTEM_MESSAGE.format(memory=existing_memory_content)\n",
    "    \n",
    "    response = model.invoke([SystemMessage(content=system_msg)]+state[\"messages\"])\n",
    "\n",
    "    return {\"messages\": response}"
   ]
  },
  {
   "cell_type": "code",
   "execution_count": null,
   "metadata": {},
   "outputs": [],
   "source": [
    "def write_memory(state: MessagesState, config: RunnableConfig, store: BaseStore):\n",
    "\n",
    "    \"\"\"Reflect on the chat history and save a memory to the store.\"\"\"\n",
    "    \n",
    "    # Get the user ID from the config\n",
    "    user_id = config[\"configurable\"][\"user_id\"]\n",
    "\n",
    "    # Retrieve existing memory from the store\n",
    "    namespace = (user_id, \"memory\")\n",
    "    existing_memory = store.get(namespace, \"user_memory\")\n",
    "        \n",
    "    # Extract the memory\n",
    "    if existing_memory:\n",
    "        existing_memory_content = existing_memory.value.get('memory') # because i am putting value as dict with key memory\n",
    "    else:\n",
    "        existing_memory_content = \"No existing memory found.\"\n",
    "\n",
    "    print(f\"-------{existing_memory_content}--------\")\n",
    "\n",
    "    # Format the memory in the system prompt\n",
    "    system_msg = CREATE_MEMORY_INSTRUCTION.format(memory=existing_memory_content)\n",
    "    new_memory = model.invoke([SystemMessage(content=system_msg)]+state['messages'])\n",
    "\n",
    "    # Overwrite the existing memory in the store \n",
    "    key = \"user_memory\"\n",
    "    \n",
    "    if new_memory.content:\n",
    "        print(f\"New memory content: {new_memory.content}\")\n",
    "        store.put(namespace, key, {\"memory\": new_memory.content})\n",
    "    else:\n",
    "        print(f\"\\nNothing updating this time\\n\")\n",
    "    # Write value as a dictionary with a memory key\n",
    "    # store.put(namespace, key, {\"memory\": new_memory.content})\n",
    "    "
   ]
  },
  {
   "cell_type": "markdown",
   "metadata": {},
   "source": [
    "Building Graph"
   ]
  },
  {
   "cell_type": "code",
   "execution_count": 179,
   "metadata": {},
   "outputs": [
    {
     "data": {
      "image/png": "[encoded data removed]",
      "text/plain": [
       "<IPython.core.display.Image object>"
      ]
     },
     "metadata": {},
     "output_type": "display_data"
    }
   ],
   "source": [
    "builder = StateGraph(MessagesState)\n",
    "\n",
    "builder.add_node(\"call_model\", call_model)\n",
    "builder.add_node(\"write_memory\", write_memory)\n",
    "\n",
    "builder.add_edge(START, \"call_model\")\n",
    "builder.add_edge(\"call_model\", \"write_memory\")\n",
    "builder.add_edge(\"write_memory\", END)\n",
    "\n",
    "across_memory_thread = InMemoryStore()\n",
    "\n",
    "within_memory_thread = MemorySaver()\n",
    "\n",
    "graph = builder.compile(checkpointer=within_memory_thread, store=across_memory_thread)\n",
    "\n",
    "\n",
    "from IPython.display import Image, display\n",
    "\n",
    "display(Image(graph.get_graph().draw_mermaid_png()))"
   ]
  },
  {
   "cell_type": "code",
   "execution_count": 180,
   "metadata": {},
   "outputs": [],
   "source": [
    "config = {\"configurable\": {\"thread_id\": \"1\", \"user_id\": \"1\"}}\n",
    "\n",
    "input_messages = [HumanMessage(content=\"Hi, my name is Lance\")]"
   ]
  },
  {
   "cell_type": "code",
   "execution_count": 181,
   "metadata": {},
   "outputs": [
    {
     "name": "stdout",
     "output_type": "stream",
     "text": [
      "================================\u001b[1m Human Message \u001b[0m=================================\n",
      "\n",
      "Hi, my name is Lance\n",
      "==================================\u001b[1m Ai Message \u001b[0m==================================\n",
      "\n",
      "Hi Lance! It's nice to meet you. How can I assist you today?\n",
      "-------No existing memory found.--------\n",
      "New memory content: - Name: Lance\n"
     ]
    }
   ],
   "source": [
    "for chunk in graph.stream({\"messages\": input_messages}, config, stream_mode=\"values\"):\n",
    "    chunk[\"messages\"][-1].pretty_print()"
   ]
  },
  {
   "cell_type": "code",
   "execution_count": 182,
   "metadata": {},
   "outputs": [
    {
     "data": {
      "text/plain": [
       "Item(namespace=['1', 'memory'], key='user_memory', value={'memory': '- Name: Lance'}, created_at='2025-07-30T17:28:34.951233+00:00', updated_at='2025-07-30T17:28:34.951236+00:00')"
      ]
     },
     "execution_count": 182,
     "metadata": {},
     "output_type": "execute_result"
    }
   ],
   "source": [
    "user_id = \"1\"\n",
    "# namespace = (\"memory\", user_id)\n",
    "namespace = (user_id, \"memory\")\n",
    "\n",
    "existing_memory = across_memory_thread.get(namespace, \"user_memory\")\n",
    "existing_memory"
   ]
  },
  {
   "cell_type": "code",
   "execution_count": 183,
   "metadata": {},
   "outputs": [
    {
     "name": "stdout",
     "output_type": "stream",
     "text": [
      "================================\u001b[1m Human Message \u001b[0m=================================\n",
      "\n",
      "I like to bike around San Francisco\n",
      "==================================\u001b[1m Ai Message \u001b[0m==================================\n",
      "\n",
      "That sounds like a great way to explore the city! San Francisco has some beautiful views and interesting neighborhoods to bike through. Do you have any favorite routes or spots you like to visit while biking?\n",
      "-------- Name: Lance--------\n",
      "New memory content: - Name: Lance\n",
      "- Location: San Francisco\n",
      "- Interests: Biking around San Francisco\n"
     ]
    }
   ],
   "source": [
    "# User input \n",
    "input_messages = [HumanMessage(content=\"I like to bike around San Francisco\")]\n",
    "\n",
    "# Run the graph\n",
    "for chunk in graph.stream({\"messages\": input_messages}, config, stream_mode=\"values\"):\n",
    "    chunk[\"messages\"][-1].pretty_print()"
   ]
  },
  {
   "cell_type": "code",
   "execution_count": 184,
   "metadata": {},
   "outputs": [
    {
     "data": {
      "text/plain": [
       "Item(namespace=['1', 'memory'], key='user_memory', value={'memory': '- Name: Lance\\n- Location: San Francisco\\n- Interests: Biking around San Francisco'}, created_at='2025-07-30T17:28:44.128720+00:00', updated_at='2025-07-30T17:28:44.128723+00:00')"
      ]
     },
     "execution_count": 184,
     "metadata": {},
     "output_type": "execute_result"
    }
   ],
   "source": [
    "user_id = \"1\"\n",
    "# namespace = (\"memory\", user_id)\n",
    "namespace = (user_id, \"memory\")\n",
    "\n",
    "existing_memory = across_memory_thread.get(namespace, \"user_memory\")\n",
    "existing_memory"
   ]
  },
  {
   "cell_type": "code",
   "execution_count": 185,
   "metadata": {},
   "outputs": [
    {
     "name": "stdout",
     "output_type": "stream",
     "text": [
      "================================\u001b[1m Human Message \u001b[0m=================================\n",
      "\n",
      "I also like to eat pizzas\n",
      "==================================\u001b[1m Ai Message \u001b[0m==================================\n",
      "\n",
      "Pizza and biking make a great combo! After a good ride, there's nothing like enjoying a delicious slice. Do you have a favorite pizza place in San Francisco?\n",
      "-------- Name: Lance\n",
      "- Location: San Francisco\n",
      "- Interests: Biking around San Francisco--------\n",
      "New memory content: Here's the updated information about you:\n",
      "\n",
      "- Name: Lance\n",
      "- Location: San Francisco\n",
      "- Interests: Biking around San Francisco, eating pizzas\n",
      "\n",
      "If there's anything else you'd like to share or update, feel free to let me know!\n"
     ]
    }
   ],
   "source": [
    "# User input \n",
    "input_messages = [HumanMessage(content=\"I also like to eat pizzas\")]\n",
    "\n",
    "# Run the graph\n",
    "for chunk in graph.stream({\"messages\": input_messages}, config, stream_mode=\"values\"):\n",
    "    chunk[\"messages\"][-1].pretty_print()"
   ]
  },
  {
   "cell_type": "markdown",
   "metadata": {},
   "source": [
    "Let's check what is saved in the checkpointer"
   ]
  },
  {
   "cell_type": "code",
   "execution_count": 186,
   "metadata": {},
   "outputs": [
    {
     "name": "stdout",
     "output_type": "stream",
     "text": [
      "Hi, my name is Lance\n",
      "--------\n",
      "Hi Lance! It's nice to meet you. How can I assist you today?\n",
      "--------\n",
      "I like to bike around San Francisco\n",
      "--------\n",
      "That sounds like a great way to explore the city! San Francisco has some beautiful views and interesting neighborhoods to bike through. Do you have any favorite routes or spots you like to visit while biking?\n",
      "--------\n",
      "I also like to eat pizzas\n",
      "--------\n",
      "Pizza and biking make a great combo! After a good ride, there's nothing like enjoying a delicious slice. Do you have a favorite pizza place in San Francisco?\n",
      "--------\n"
     ]
    }
   ],
   "source": [
    "thread = {\"configurable\":{\"thread_id\": \"1\"}}\n",
    "\n",
    "state =  graph.get_state(thread).values\n",
    "for m in state[\"messages\"]:\n",
    "    print(m.content)\n",
    "    print(\"--------\")"
   ]
  },
  {
   "cell_type": "markdown",
   "metadata": {},
   "source": [
    "Let's check across_thread_memory"
   ]
  },
  {
   "cell_type": "code",
   "execution_count": 190,
   "metadata": {},
   "outputs": [
    {
     "data": {
      "text/plain": [
       "{'memory': \"Here's the updated information about you:\\n\\n- Name: Lance\\n- Location: San Francisco\\n- Interests: Biking around San Francisco, eating pizzas\\n\\nIf there's anything else you'd like to share or update, feel free to let me know!\"}"
      ]
     },
     "execution_count": 190,
     "metadata": {},
     "output_type": "execute_result"
    }
   ],
   "source": [
    "user_id = \"1\"\n",
    "# namespace = (\"memory\", user_id)\n",
    "namespace = (user_id, \"memory\")\n",
    "\n",
    "existing_memory = across_memory_thread.get(namespace, \"user_memory\")\n",
    "existing_memory.value"
   ]
  },
  {
   "cell_type": "code",
   "execution_count": 191,
   "metadata": {},
   "outputs": [
    {
     "name": "stdout",
     "output_type": "stream",
     "text": [
      "================================\u001b[1m Human Message \u001b[0m=================================\n",
      "\n",
      "Hi! Where would you recommend that I go biking?\n",
      "==================================\u001b[1m Ai Message \u001b[0m==================================\n",
      "\n",
      "Hi, Lance! Since you're in San Francisco, there are some fantastic biking spots you might enjoy. Here are a few recommendations:\n",
      "\n",
      "1. **Golden Gate Park**: This park has miles of bike paths and beautiful scenery, including gardens, lakes, and the famous windmills.\n",
      "\n",
      "2. **The Embarcadero**: You can ride along the waterfront, enjoying views of the Bay Bridge and the Ferry Building. It’s a flat and scenic route.\n",
      "\n",
      "3. **Crissy Field**: This area offers stunning views of the Golden Gate Bridge and the bay. The path is mostly flat and great for a leisurely ride.\n",
      "\n",
      "4. **Twin Peaks**: If you're up for a challenge, biking to Twin Peaks will reward you with panoramic views of the city.\n",
      "\n",
      "5. **Marin Headlands**: For a more adventurous ride, consider crossing the Golden Gate Bridge and exploring the trails in the Marin Headlands.\n",
      "\n",
      "Enjoy your biking adventures! Let me know if you need more specific routes or tips!\n",
      "-------Here's the updated information about you:\n",
      "\n",
      "- Name: Lance\n",
      "- Location: San Francisco\n",
      "- Interests: Biking around San Francisco, eating pizzas\n",
      "\n",
      "If there's anything else you'd like to share or update, feel free to let me know!--------\n",
      "New memory content: Here's the updated information about you:\n",
      "\n",
      "- Name: Lance\n",
      "- Location: San Francisco\n",
      "- Interests: \n",
      "  - Biking around San Francisco\n",
      "  - Eating pizzas\n",
      "- Recent inquiry: Looking for biking recommendations in San Francisco. \n",
      "\n",
      "If there's anything else you'd like to share or update, feel free to let me know!\n"
     ]
    }
   ],
   "source": [
    "config = {\"configurable\": {\"thread_id\": \"2\", \"user_id\": \"1\"}}\n",
    "\n",
    "# User input \n",
    "input_messages = [HumanMessage(content=\"Hi! Where would you recommend that I go biking?\")]\n",
    "\n",
    "# Run the graph\n",
    "for chunk in graph.stream({\"messages\": input_messages}, config, stream_mode=\"values\"):\n",
    "    chunk[\"messages\"][-1].pretty_print()"
   ]
  },
  {
   "cell_type": "code",
   "execution_count": null,
   "metadata": {},
   "outputs": [],
   "source": []
  }
 ],
 "metadata": {
  "kernelspec": {
   "display_name": "persistent-memory-agent",
   "language": "python",
   "name": "python3"
  },
  "language_info": {
   "codemirror_mode": {
    "name": "ipython",
    "version": 3
   },
   "file_extension": ".py",
   "mimetype": "text/x-python",
   "name": "python",
   "nbconvert_exporter": "python",
   "pygments_lexer": "ipython3",
   "version": "3.12.0"
  }
 },
 "nbformat": 4,
 "nbformat_minor": 2
}
